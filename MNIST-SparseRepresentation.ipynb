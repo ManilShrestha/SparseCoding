{
 "cells": [
  {
   "cell_type": "markdown",
   "id": "9a169716",
   "metadata": {},
   "source": [
    "### Learning sparse coding representation by experimenting with MNIST dataset. \n",
    "\n",
    "##### I am following Hugo Larochell's video series on sparse coding: https://www.youtube.com/watch?v=7a0_iEruGoM"
   ]
  },
  {
   "cell_type": "markdown",
   "id": "dffddcb6",
   "metadata": {},
   "source": [
    "#### First loading MNIST dataset. I am using this python script from: https://github.com/hsjeong5/MNIST-for-Numpy"
   ]
  },
  {
   "cell_type": "code",
   "execution_count": 1,
   "id": "8257261a",
   "metadata": {},
   "outputs": [],
   "source": [
    "import pandas as pd\n",
    "import matplotlib.pyplot as plt\n",
    "%matplotlib inline\n",
    "import mnist\n",
    "import numpy as np"
   ]
  },
  {
   "cell_type": "code",
   "execution_count": 2,
   "id": "4ae4aaf4",
   "metadata": {},
   "outputs": [
    {
     "name": "stdout",
     "output_type": "stream",
     "text": [
      "Downloading train-images-idx3-ubyte.gz...\n",
      "Downloading t10k-images-idx3-ubyte.gz...\n",
      "Downloading train-labels-idx1-ubyte.gz...\n",
      "Downloading t10k-labels-idx1-ubyte.gz...\n",
      "Download complete.\n",
      "Save complete.\n"
     ]
    }
   ],
   "source": [
    "mnist.init()"
   ]
  },
  {
   "cell_type": "code",
   "execution_count": 3,
   "id": "06d2405e",
   "metadata": {},
   "outputs": [
    {
     "data": {
      "text/plain": [
       "module"
      ]
     },
     "execution_count": 3,
     "metadata": {},
     "output_type": "execute_result"
    }
   ],
   "source": [
    "type(mnist)"
   ]
  },
  {
   "cell_type": "code",
   "execution_count": 4,
   "id": "bcc2262a",
   "metadata": {},
   "outputs": [],
   "source": [
    "x_train, t_train, x_test, t_test = mnist.load()"
   ]
  },
  {
   "cell_type": "code",
   "execution_count": 5,
   "id": "d40c73bd",
   "metadata": {},
   "outputs": [
    {
     "data": {
      "text/html": [
       "<div>\n",
       "<style scoped>\n",
       "    .dataframe tbody tr th:only-of-type {\n",
       "        vertical-align: middle;\n",
       "    }\n",
       "\n",
       "    .dataframe tbody tr th {\n",
       "        vertical-align: top;\n",
       "    }\n",
       "\n",
       "    .dataframe thead th {\n",
       "        text-align: right;\n",
       "    }\n",
       "</style>\n",
       "<table border=\"1\" class=\"dataframe\">\n",
       "  <thead>\n",
       "    <tr style=\"text-align: right;\">\n",
       "      <th></th>\n",
       "      <th>0</th>\n",
       "      <th>1</th>\n",
       "      <th>2</th>\n",
       "      <th>3</th>\n",
       "      <th>4</th>\n",
       "      <th>5</th>\n",
       "      <th>6</th>\n",
       "      <th>7</th>\n",
       "      <th>8</th>\n",
       "      <th>9</th>\n",
       "      <th>...</th>\n",
       "      <th>774</th>\n",
       "      <th>775</th>\n",
       "      <th>776</th>\n",
       "      <th>777</th>\n",
       "      <th>778</th>\n",
       "      <th>779</th>\n",
       "      <th>780</th>\n",
       "      <th>781</th>\n",
       "      <th>782</th>\n",
       "      <th>783</th>\n",
       "    </tr>\n",
       "  </thead>\n",
       "  <tbody>\n",
       "    <tr>\n",
       "      <th>0</th>\n",
       "      <td>0</td>\n",
       "      <td>0</td>\n",
       "      <td>0</td>\n",
       "      <td>0</td>\n",
       "      <td>0</td>\n",
       "      <td>0</td>\n",
       "      <td>0</td>\n",
       "      <td>0</td>\n",
       "      <td>0</td>\n",
       "      <td>0</td>\n",
       "      <td>...</td>\n",
       "      <td>0</td>\n",
       "      <td>0</td>\n",
       "      <td>0</td>\n",
       "      <td>0</td>\n",
       "      <td>0</td>\n",
       "      <td>0</td>\n",
       "      <td>0</td>\n",
       "      <td>0</td>\n",
       "      <td>0</td>\n",
       "      <td>0</td>\n",
       "    </tr>\n",
       "    <tr>\n",
       "      <th>1</th>\n",
       "      <td>0</td>\n",
       "      <td>0</td>\n",
       "      <td>0</td>\n",
       "      <td>0</td>\n",
       "      <td>0</td>\n",
       "      <td>0</td>\n",
       "      <td>0</td>\n",
       "      <td>0</td>\n",
       "      <td>0</td>\n",
       "      <td>0</td>\n",
       "      <td>...</td>\n",
       "      <td>0</td>\n",
       "      <td>0</td>\n",
       "      <td>0</td>\n",
       "      <td>0</td>\n",
       "      <td>0</td>\n",
       "      <td>0</td>\n",
       "      <td>0</td>\n",
       "      <td>0</td>\n",
       "      <td>0</td>\n",
       "      <td>0</td>\n",
       "    </tr>\n",
       "    <tr>\n",
       "      <th>2</th>\n",
       "      <td>0</td>\n",
       "      <td>0</td>\n",
       "      <td>0</td>\n",
       "      <td>0</td>\n",
       "      <td>0</td>\n",
       "      <td>0</td>\n",
       "      <td>0</td>\n",
       "      <td>0</td>\n",
       "      <td>0</td>\n",
       "      <td>0</td>\n",
       "      <td>...</td>\n",
       "      <td>0</td>\n",
       "      <td>0</td>\n",
       "      <td>0</td>\n",
       "      <td>0</td>\n",
       "      <td>0</td>\n",
       "      <td>0</td>\n",
       "      <td>0</td>\n",
       "      <td>0</td>\n",
       "      <td>0</td>\n",
       "      <td>0</td>\n",
       "    </tr>\n",
       "    <tr>\n",
       "      <th>3</th>\n",
       "      <td>0</td>\n",
       "      <td>0</td>\n",
       "      <td>0</td>\n",
       "      <td>0</td>\n",
       "      <td>0</td>\n",
       "      <td>0</td>\n",
       "      <td>0</td>\n",
       "      <td>0</td>\n",
       "      <td>0</td>\n",
       "      <td>0</td>\n",
       "      <td>...</td>\n",
       "      <td>0</td>\n",
       "      <td>0</td>\n",
       "      <td>0</td>\n",
       "      <td>0</td>\n",
       "      <td>0</td>\n",
       "      <td>0</td>\n",
       "      <td>0</td>\n",
       "      <td>0</td>\n",
       "      <td>0</td>\n",
       "      <td>0</td>\n",
       "    </tr>\n",
       "    <tr>\n",
       "      <th>4</th>\n",
       "      <td>0</td>\n",
       "      <td>0</td>\n",
       "      <td>0</td>\n",
       "      <td>0</td>\n",
       "      <td>0</td>\n",
       "      <td>0</td>\n",
       "      <td>0</td>\n",
       "      <td>0</td>\n",
       "      <td>0</td>\n",
       "      <td>0</td>\n",
       "      <td>...</td>\n",
       "      <td>0</td>\n",
       "      <td>0</td>\n",
       "      <td>0</td>\n",
       "      <td>0</td>\n",
       "      <td>0</td>\n",
       "      <td>0</td>\n",
       "      <td>0</td>\n",
       "      <td>0</td>\n",
       "      <td>0</td>\n",
       "      <td>0</td>\n",
       "    </tr>\n",
       "  </tbody>\n",
       "</table>\n",
       "<p>5 rows × 784 columns</p>\n",
       "</div>"
      ],
      "text/plain": [
       "   0    1    2    3    4    5    6    7    8    9    ...  774  775  776  777  \\\n",
       "0    0    0    0    0    0    0    0    0    0    0  ...    0    0    0    0   \n",
       "1    0    0    0    0    0    0    0    0    0    0  ...    0    0    0    0   \n",
       "2    0    0    0    0    0    0    0    0    0    0  ...    0    0    0    0   \n",
       "3    0    0    0    0    0    0    0    0    0    0  ...    0    0    0    0   \n",
       "4    0    0    0    0    0    0    0    0    0    0  ...    0    0    0    0   \n",
       "\n",
       "   778  779  780  781  782  783  \n",
       "0    0    0    0    0    0    0  \n",
       "1    0    0    0    0    0    0  \n",
       "2    0    0    0    0    0    0  \n",
       "3    0    0    0    0    0    0  \n",
       "4    0    0    0    0    0    0  \n",
       "\n",
       "[5 rows x 784 columns]"
      ]
     },
     "execution_count": 5,
     "metadata": {},
     "output_type": "execute_result"
    }
   ],
   "source": [
    "pd.DataFrame(x_train).head()"
   ]
  },
  {
   "cell_type": "code",
   "execution_count": 6,
   "id": "9886346d",
   "metadata": {},
   "outputs": [
    {
     "data": {
      "text/html": [
       "<div>\n",
       "<style scoped>\n",
       "    .dataframe tbody tr th:only-of-type {\n",
       "        vertical-align: middle;\n",
       "    }\n",
       "\n",
       "    .dataframe tbody tr th {\n",
       "        vertical-align: top;\n",
       "    }\n",
       "\n",
       "    .dataframe thead th {\n",
       "        text-align: right;\n",
       "    }\n",
       "</style>\n",
       "<table border=\"1\" class=\"dataframe\">\n",
       "  <thead>\n",
       "    <tr style=\"text-align: right;\">\n",
       "      <th></th>\n",
       "      <th>0</th>\n",
       "    </tr>\n",
       "  </thead>\n",
       "  <tbody>\n",
       "    <tr>\n",
       "      <th>0</th>\n",
       "      <td>5</td>\n",
       "    </tr>\n",
       "    <tr>\n",
       "      <th>1</th>\n",
       "      <td>0</td>\n",
       "    </tr>\n",
       "    <tr>\n",
       "      <th>2</th>\n",
       "      <td>4</td>\n",
       "    </tr>\n",
       "    <tr>\n",
       "      <th>3</th>\n",
       "      <td>1</td>\n",
       "    </tr>\n",
       "    <tr>\n",
       "      <th>4</th>\n",
       "      <td>9</td>\n",
       "    </tr>\n",
       "  </tbody>\n",
       "</table>\n",
       "</div>"
      ],
      "text/plain": [
       "   0\n",
       "0  5\n",
       "1  0\n",
       "2  4\n",
       "3  1\n",
       "4  9"
      ]
     },
     "execution_count": 6,
     "metadata": {},
     "output_type": "execute_result"
    }
   ],
   "source": [
    "pd.DataFrame(t_train).head()"
   ]
  },
  {
   "cell_type": "code",
   "execution_count": 7,
   "id": "d66ecc92",
   "metadata": {},
   "outputs": [
    {
     "data": {
      "text/plain": [
       "60000"
      ]
     },
     "execution_count": 7,
     "metadata": {},
     "output_type": "execute_result"
    }
   ],
   "source": [
    "len(t_train)"
   ]
  },
  {
   "cell_type": "code",
   "execution_count": 8,
   "id": "46b3f510",
   "metadata": {},
   "outputs": [],
   "source": [
    "def plot_samples(image_array, num_samples_x, num_samples_y):\n",
    "    f, axarr = plt.subplots(num_samples_x,num_samples_y)\n",
    "\n",
    "    n=0\n",
    "    \n",
    "    for i in range(0,num_samples_x):\n",
    "        for j in range(0,num_samples_y):\n",
    "            img = image_array[n,:].reshape(28,28) # 28x28 because of MNIST size\n",
    "            axarr[i,j].imshow(img,cmap='gray')\n",
    "            axarr[i,j].axis('off')\n",
    "            n+=1"
   ]
  },
  {
   "cell_type": "code",
   "execution_count": 9,
   "id": "2f0607f1",
   "metadata": {},
   "outputs": [
    {
     "data": {
      "image/png": "[encoded data removed]",
      "text/plain": [
       "<Figure size 432x288 with 25 Axes>"
      ]
     },
     "metadata": {
      "needs_background": "light"
     },
     "output_type": "display_data"
    }
   ],
   "source": [
    "plot_samples(x_train,5,5)"
   ]
  },
  {
   "cell_type": "code",
   "execution_count": 10,
   "id": "39f439a6",
   "metadata": {},
   "outputs": [],
   "source": [
    "a = np.zeros((10,10))\n",
    "k=0\n",
    "for i in range(0,10):\n",
    "    for j in range(0,10):\n",
    "        a[i][j] = t_train[k]\n",
    "        k+=1"
   ]
  },
  {
   "cell_type": "code",
   "execution_count": 11,
   "id": "80c2d2ac",
   "metadata": {},
   "outputs": [
    {
     "data": {
      "text/plain": [
       "array([[5., 0., 4., 1., 9., 2., 1., 3., 1., 4.],\n",
       "       [3., 5., 3., 6., 1., 7., 2., 8., 6., 9.],\n",
       "       [4., 0., 9., 1., 1., 2., 4., 3., 2., 7.],\n",
       "       [3., 8., 6., 9., 0., 5., 6., 0., 7., 6.],\n",
       "       [1., 8., 7., 9., 3., 9., 8., 5., 9., 3.],\n",
       "       [3., 0., 7., 4., 9., 8., 0., 9., 4., 1.],\n",
       "       [4., 4., 6., 0., 4., 5., 6., 1., 0., 0.],\n",
       "       [1., 7., 1., 6., 3., 0., 2., 1., 1., 7.],\n",
       "       [9., 0., 2., 6., 7., 8., 3., 9., 0., 4.],\n",
       "       [6., 7., 4., 6., 8., 0., 7., 8., 3., 1.]])"
      ]
     },
     "execution_count": 11,
     "metadata": {},
     "output_type": "execute_result"
    }
   ],
   "source": [
    "a"
   ]
  },
  {
   "cell_type": "markdown",
   "id": "0e8be411",
   "metadata": {},
   "source": [
    "#### ZCA whitening the values\n",
    "Before running a sparse coding algorithm, it is beneficial to remove \"obvious\" structure from the data. \n",
    "\n",
    "- Normalize such that mean is 0 and covariance is the identity\n",
    "- This will remove the 1st and 2dn order statistical structure.\n",
    "\n",
    "\n",
    "###### Running ZCA with all the training data causes kernel to die. Need to find out another way, doing it in batch definitely messes up the results of whitening."
   ]
  },
  {
   "cell_type": "code",
   "execution_count": 12,
   "id": "7ca1f1e2",
   "metadata": {},
   "outputs": [],
   "source": [
    "def zca_whitening_matrix(X):\n",
    "    \"\"\"\n",
    "    Function to compute ZCA whitening matrix (aka Mahalanobis whitening).\n",
    "    INPUT:  X: [M x N] matrix.\n",
    "        Rows: Variables\n",
    "        Columns: Observations\n",
    "    OUTPUT: ZCAMatrix: [M x M] matrix\n",
    "    \"\"\"\n",
    "    # Covariance matrix [column-wise variables]: Sigma = (X-mu)' * (X-mu) / N\n",
    "    sigma = np.cov(X, rowvar=True) # [M x M]\n",
    "    # Singular Value Decomposition. X = U * np.diag(S) * V\n",
    "    U,S,V = np.linalg.svd(sigma)\n",
    "        # U: [M x M] eigenvectors of sigma.\n",
    "        # S: [M x 1] eigenvalues of sigma.\n",
    "        # V: [M x M] transpose of U\n",
    "    # Whitening constant: prevents division by zero\n",
    "    epsilon = 1e-5\n",
    "    # ZCA Whitening matrix: U * Lambda * U'\n",
    "    ZCAMatrix = np.dot(U, np.dot(np.diag(1.0/np.sqrt(S + epsilon)), U.T)) # [M x M]\n",
    "    return ZCAMatrix"
   ]
  },
  {
   "cell_type": "code",
   "execution_count": 13,
   "id": "6be5aec7",
   "metadata": {},
   "outputs": [],
   "source": [
    "ZCA_mat = zca_whitening_matrix(x_train[0:1000])\n",
    "ZCA_whitened = np.dot(ZCA_mat, x_train[0:1000]) # project X onto the ZCAMatrix\n"
   ]
  },
  {
   "cell_type": "code",
   "execution_count": 14,
   "id": "ff430448",
   "metadata": {},
   "outputs": [
    {
     "data": {
      "image/png": "[encoded data removed]",
      "text/plain": [
       "<Figure size 432x288 with 49 Axes>"
      ]
     },
     "metadata": {
      "needs_background": "light"
     },
     "output_type": "display_data"
    }
   ],
   "source": [
    "plot_samples(ZCA_whitened, 7,7)"
   ]
  },
  {
   "cell_type": "markdown",
   "id": "f1dd8ac8",
   "metadata": {},
   "source": [
    "### Using ISTA to infer the sparse codes"
   ]
  },
  {
   "cell_type": "code",
   "execution_count": 28,
   "id": "5a175fb8",
   "metadata": {},
   "outputs": [],
   "source": [
    "convergenceThreshold = 0.005\n",
    "sparsityTerm = 0.5\n",
    "maxIterations = 10000\n",
    "learningRate = 0.005\n",
    "\n",
    "def shrink(a,b):\n",
    "    sign = [1 if x>0 else -1 for x in a]\n",
    "    shrinkedValue = \n",
    "\n",
    "def ISTA(X, h, D):\n",
    "    prevObjectiveFunction = 0\n",
    "    i = 0\n",
    "    while True:\n",
    "        # Iterations i\n",
    "        i +=1\n",
    "        \n",
    "        Y = h@D\n",
    "        objectiveFunction = 0.5 * np.sum((X-Y)**2) + sparsityTerm * np.sum(np.absolute(h))\n",
    "        diffObjectiveFunction = abs(objectiveFunction - prevObjectiveFunction)\n",
    "        \n",
    "        # Break from loop once the ISTA converges\n",
    "        if(diffObjectiveFunction < convergenceThreshold or i > maxIterations):\n",
    "            break\n",
    "        \n",
    "        prevObjectiveFunction = objectiveFunction\n",
    "\n",
    "        h = h - learningRate * ((Y-X)@ D.T)\n",
    "        h = shrink(h, learningRate * sparsityTerm)\n",
    "        \n",
    "    print(h, X, Y, objectiveFunction, i, diffObjectiveFunction)\n",
    "    \n",
    "    return h"
   ]
  },
  {
   "cell_type": "code",
   "execution_count": 29,
   "id": "a84f99e9",
   "metadata": {},
   "outputs": [
    {
     "ename": "NameError",
     "evalue": "name 'shrink' is not defined",
     "output_type": "error",
     "traceback": [
      "\u001b[0;31m---------------------------------------------------------------------------\u001b[0m",
      "\u001b[0;31mNameError\u001b[0m                                 Traceback (most recent call last)",
      "Input \u001b[0;32mIn [29]\u001b[0m, in \u001b[0;36m<cell line: 1>\u001b[0;34m()\u001b[0m\n\u001b[0;32m----> 1\u001b[0m \u001b[43mISTA\u001b[49m\u001b[43m(\u001b[49m\u001b[43mX\u001b[49m\u001b[43m,\u001b[49m\u001b[43m \u001b[49m\u001b[43mh\u001b[49m\u001b[43m,\u001b[49m\u001b[43m \u001b[49m\u001b[43mD\u001b[49m\u001b[43m)\u001b[49m\n",
      "Input \u001b[0;32mIn [28]\u001b[0m, in \u001b[0;36mISTA\u001b[0;34m(X, h, D)\u001b[0m\n\u001b[1;32m     21\u001b[0m     prevObjectiveFunction \u001b[38;5;241m=\u001b[39m objectiveFunction\n\u001b[1;32m     23\u001b[0m     h \u001b[38;5;241m=\u001b[39m h \u001b[38;5;241m-\u001b[39m learningRate \u001b[38;5;241m*\u001b[39m ((Y\u001b[38;5;241m-\u001b[39mX)\u001b[38;5;241m@\u001b[39m D\u001b[38;5;241m.\u001b[39mT)\n\u001b[0;32m---> 24\u001b[0m     h \u001b[38;5;241m=\u001b[39m \u001b[43mshrink\u001b[49m(h, learningRate \u001b[38;5;241m*\u001b[39m sparsityTerm)\n\u001b[1;32m     26\u001b[0m \u001b[38;5;28mprint\u001b[39m(h, X, Y, objectiveFunction, i, diffObjectiveFunction)\n\u001b[1;32m     28\u001b[0m \u001b[38;5;28;01mreturn\u001b[39;00m h\n",
      "\u001b[0;31mNameError\u001b[0m: name 'shrink' is not defined"
     ]
    }
   ],
   "source": [
    "ISTA(X, h, D)"
   ]
  },
  {
   "cell_type": "code",
   "execution_count": 218,
   "id": "40a8a20c",
   "metadata": {},
   "outputs": [
    {
     "data": {
      "text/plain": [
       "0.5"
      ]
     },
     "execution_count": 218,
     "metadata": {},
     "output_type": "execute_result"
    }
   ],
   "source": [
    "sparsityTerm"
   ]
  },
  {
   "cell_type": "markdown",
   "id": "3be8c6ae",
   "metadata": {},
   "source": [
    "# Scrap below"
   ]
  },
  {
   "cell_type": "code",
   "execution_count": 20,
   "id": "836c2fa7",
   "metadata": {},
   "outputs": [
    {
     "data": {
      "text/plain": [
       "array([[0, 1, 1, 1, 0, 0, 1, 1, 1],\n",
       "       [2, 2, 2, 2, 2, 2, 2, 2, 2]])"
      ]
     },
     "execution_count": 20,
     "metadata": {},
     "output_type": "execute_result"
    }
   ],
   "source": [
    "D=np.array([[0,1,1,\n",
    "             1,0,0,\n",
    "            1,1,1],\n",
    "            \n",
    "            [2,2,2,\n",
    "             2,2,2,\n",
    "            2,2,2]\n",
    "            ]\n",
    "           )\n",
    "D"
   ]
  },
  {
   "cell_type": "code",
   "execution_count": 21,
   "id": "2239ac65",
   "metadata": {},
   "outputs": [
    {
     "data": {
      "text/plain": [
       "(1, 9)"
      ]
     },
     "execution_count": 21,
     "metadata": {},
     "output_type": "execute_result"
    }
   ],
   "source": [
    "X=np.array([[10,25,33,\n",
    "             42,51,68,\n",
    "            36,88,92]]\n",
    "           )\n",
    "X.shape"
   ]
  },
  {
   "cell_type": "code",
   "execution_count": 22,
   "id": "3e376b1e",
   "metadata": {},
   "outputs": [
    {
     "data": {
      "text/plain": [
       "(1, 2)"
      ]
     },
     "execution_count": 22,
     "metadata": {},
     "output_type": "execute_result"
    }
   ],
   "source": [
    "h = np.array([[0, 0]])\n",
    "h.shape"
   ]
  },
  {
   "cell_type": "code",
   "execution_count": 23,
   "id": "9ce7d72c",
   "metadata": {},
   "outputs": [
    {
     "name": "stdout",
     "output_type": "stream",
     "text": [
      "(1, 9)\n",
      "(9, 2)\n"
     ]
    }
   ],
   "source": [
    "Y = h@D\n",
    "Y-X\n",
    "print((Y-X).shape)\n",
    "print(D.T.shape)"
   ]
  },
  {
   "cell_type": "code",
   "execution_count": 46,
   "id": "ac98bbfd",
   "metadata": {},
   "outputs": [
    {
     "data": {
      "text/plain": [
       "array([16,  6,  8])"
      ]
     },
     "execution_count": 46,
     "metadata": {},
     "output_type": "execute_result"
    }
   ],
   "source": [
    "a = np.array([[ 5, 1 ,3], \n",
    "              [ 1, 1 ,1],\n",
    "              [ 1, 2, 1]])\n",
    "b = np.array([1, 2, 3])\n",
    "a.dot(b)"
   ]
  },
  {
   "cell_type": "code",
   "execution_count": 71,
   "id": "836dbfad",
   "metadata": {},
   "outputs": [],
   "source": [
    "j = np.array([[ -5, 1 ,-3], \n",
    "              [ 1, 1 ,1],\n",
    "              [ 1, -2, 1]])"
   ]
  },
  {
   "cell_type": "code",
   "execution_count": 72,
   "id": "c192d528",
   "metadata": {},
   "outputs": [
    {
     "data": {
      "text/plain": [
       "array([[5, 1, 3],\n",
       "       [1, 1, 1],\n",
       "       [1, 2, 1]])"
      ]
     },
     "execution_count": 72,
     "metadata": {},
     "output_type": "execute_result"
    }
   ],
   "source": [
    "np.absolute(j)"
   ]
  },
  {
   "cell_type": "code",
   "execution_count": 73,
   "id": "361a9f72",
   "metadata": {},
   "outputs": [
    {
     "data": {
      "text/plain": [
       "array([1, 2])"
      ]
     },
     "execution_count": 73,
     "metadata": {},
     "output_type": "execute_result"
    }
   ],
   "source": [
    "b"
   ]
  },
  {
   "cell_type": "code",
   "execution_count": 76,
   "id": "28df7d11",
   "metadata": {},
   "outputs": [],
   "source": [
    "sign = [1 if x>=0 else -1 for x in b]"
   ]
  },
  {
   "cell_type": "code",
   "execution_count": 77,
   "id": "ecfc8747",
   "metadata": {},
   "outputs": [
    {
     "data": {
      "text/plain": [
       "[1, 1]"
      ]
     },
     "execution_count": 77,
     "metadata": {},
     "output_type": "execute_result"
    }
   ],
   "source": [
    "sign"
   ]
  },
  {
   "cell_type": "code",
   "execution_count": 88,
   "id": "eee12855",
   "metadata": {},
   "outputs": [
    {
     "data": {
      "text/plain": [
       "array([0, 1])"
      ]
     },
     "execution_count": 88,
     "metadata": {},
     "output_type": "execute_result"
    }
   ],
   "source": [
    "shrink(b, 1)"
   ]
  },
  {
   "cell_type": "code",
   "execution_count": 83,
   "id": "3e5389fe",
   "metadata": {},
   "outputs": [
    {
     "data": {
      "text/plain": [
       "array([[0, 1, 0],\n",
       "       [1, 1, 1],\n",
       "       [1, 0, 1]])"
      ]
     },
     "execution_count": 83,
     "metadata": {},
     "output_type": "execute_result"
    }
   ],
   "source": [
    "np.clip(j, 0,None)"
   ]
  },
  {
   "cell_type": "code",
   "execution_count": null,
   "id": "5ea90c5b",
   "metadata": {},
   "outputs": [],
   "source": []
  }
 ],
 "metadata": {
  "kernelspec": {
   "display_name": "Python 3 (ipykernel)",
   "language": "python",
   "name": "python3"
  },
  "language_info": {
   "codemirror_mode": {
    "name": "ipython",
    "version": 3
   },
   "file_extension": ".py",
   "mimetype": "text/x-python",
   "name": "python",
   "nbconvert_exporter": "python",
   "pygments_lexer": "ipython3",
   "version": "3.8.13"
  }
 },
 "nbformat": 4,
 "nbformat_minor": 5
}
