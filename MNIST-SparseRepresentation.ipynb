{
 "cells": [
  {
   "cell_type": "markdown",
   "id": "9a169716",
   "metadata": {},
   "source": [
    "### Learning sparse coding representation by experimenting with MNIST dataset. \n",
    "\n",
    "##### I am following Hugo Larochell's video series on sparse coding: https://www.youtube.com/watch?v=7a0_iEruGoM"
   ]
  },
  {
   "cell_type": "markdown",
   "id": "dffddcb6",
   "metadata": {},
   "source": [
    "#### First loading MNIST dataset. I am using this python script from: https://github.com/hsjeong5/MNIST-for-Numpy"
   ]
  },
  {
   "cell_type": "code",
   "execution_count": 1,
   "id": "8257261a",
   "metadata": {},
   "outputs": [],
   "source": [
    "import pandas as pd\n",
    "import matplotlib.pyplot as plt\n",
    "%matplotlib inline\n",
    "import mnist\n",
    "import numpy as np"
   ]
  },
  {
   "cell_type": "code",
   "execution_count": 2,
   "id": "4ae4aaf4",
   "metadata": {},
   "outputs": [
    {
     "name": "stdout",
     "output_type": "stream",
     "text": [
      "Downloading train-images-idx3-ubyte.gz...\n",
      "Downloading t10k-images-idx3-ubyte.gz...\n",
      "Downloading train-labels-idx1-ubyte.gz...\n",
      "Downloading t10k-labels-idx1-ubyte.gz...\n",
      "Download complete.\n",
      "Save complete.\n"
     ]
    }
   ],
   "source": [
    "mnist.init()"
   ]
  },
  {
   "cell_type": "code",
   "execution_count": 3,
   "id": "06d2405e",
   "metadata": {},
   "outputs": [
    {
     "data": {
      "text/plain": [
       "module"
      ]
     },
     "execution_count": 3,
     "metadata": {},
     "output_type": "execute_result"
    }
   ],
   "source": [
    "type(mnist)"
   ]
  },
  {
   "cell_type": "code",
   "execution_count": 4,
   "id": "bcc2262a",
   "metadata": {},
   "outputs": [],
   "source": [
    "x_train, t_train, x_test, t_test = mnist.load()"
   ]
  },
  {
   "cell_type": "code",
   "execution_count": 5,
   "id": "d40c73bd",
   "metadata": {},
   "outputs": [
    {
     "data": {
      "text/html": [
       "<div>\n",
       "<style scoped>\n",
       "    .dataframe tbody tr th:only-of-type {\n",
       "        vertical-align: middle;\n",
       "    }\n",
       "\n",
       "    .dataframe tbody tr th {\n",
       "        vertical-align: top;\n",
       "    }\n",
       "\n",
       "    .dataframe thead th {\n",
       "        text-align: right;\n",
       "    }\n",
       "</style>\n",
       "<table border=\"1\" class=\"dataframe\">\n",
       "  <thead>\n",
       "    <tr style=\"text-align: right;\">\n",
       "      <th></th>\n",
       "      <th>0</th>\n",
       "      <th>1</th>\n",
       "      <th>2</th>\n",
       "      <th>3</th>\n",
       "      <th>4</th>\n",
       "      <th>5</th>\n",
       "      <th>6</th>\n",
       "      <th>7</th>\n",
       "      <th>8</th>\n",
       "      <th>9</th>\n",
       "      <th>...</th>\n",
       "      <th>774</th>\n",
       "      <th>775</th>\n",
       "      <th>776</th>\n",
       "      <th>777</th>\n",
       "      <th>778</th>\n",
       "      <th>779</th>\n",
       "      <th>780</th>\n",
       "      <th>781</th>\n",
       "      <th>782</th>\n",
       "      <th>783</th>\n",
       "    </tr>\n",
       "  </thead>\n",
       "  <tbody>\n",
       "    <tr>\n",
       "      <th>0</th>\n",
       "      <td>0</td>\n",
       "      <td>0</td>\n",
       "      <td>0</td>\n",
       "      <td>0</td>\n",
       "      <td>0</td>\n",
       "      <td>0</td>\n",
       "      <td>0</td>\n",
       "      <td>0</td>\n",
       "      <td>0</td>\n",
       "      <td>0</td>\n",
       "      <td>...</td>\n",
       "      <td>0</td>\n",
       "      <td>0</td>\n",
       "      <td>0</td>\n",
       "      <td>0</td>\n",
       "      <td>0</td>\n",
       "      <td>0</td>\n",
       "      <td>0</td>\n",
       "      <td>0</td>\n",
       "      <td>0</td>\n",
       "      <td>0</td>\n",
       "    </tr>\n",
       "    <tr>\n",
       "      <th>1</th>\n",
       "      <td>0</td>\n",
       "      <td>0</td>\n",
       "      <td>0</td>\n",
       "      <td>0</td>\n",
       "      <td>0</td>\n",
       "      <td>0</td>\n",
       "      <td>0</td>\n",
       "      <td>0</td>\n",
       "      <td>0</td>\n",
       "      <td>0</td>\n",
       "      <td>...</td>\n",
       "      <td>0</td>\n",
       "      <td>0</td>\n",
       "      <td>0</td>\n",
       "      <td>0</td>\n",
       "      <td>0</td>\n",
       "      <td>0</td>\n",
       "      <td>0</td>\n",
       "      <td>0</td>\n",
       "      <td>0</td>\n",
       "      <td>0</td>\n",
       "    </tr>\n",
       "    <tr>\n",
       "      <th>2</th>\n",
       "      <td>0</td>\n",
       "      <td>0</td>\n",
       "      <td>0</td>\n",
       "      <td>0</td>\n",
       "      <td>0</td>\n",
       "      <td>0</td>\n",
       "      <td>0</td>\n",
       "      <td>0</td>\n",
       "      <td>0</td>\n",
       "      <td>0</td>\n",
       "      <td>...</td>\n",
       "      <td>0</td>\n",
       "      <td>0</td>\n",
       "      <td>0</td>\n",
       "      <td>0</td>\n",
       "      <td>0</td>\n",
       "      <td>0</td>\n",
       "      <td>0</td>\n",
       "      <td>0</td>\n",
       "      <td>0</td>\n",
       "      <td>0</td>\n",
       "    </tr>\n",
       "    <tr>\n",
       "      <th>3</th>\n",
       "      <td>0</td>\n",
       "      <td>0</td>\n",
       "      <td>0</td>\n",
       "      <td>0</td>\n",
       "      <td>0</td>\n",
       "      <td>0</td>\n",
       "      <td>0</td>\n",
       "      <td>0</td>\n",
       "      <td>0</td>\n",
       "      <td>0</td>\n",
       "      <td>...</td>\n",
       "      <td>0</td>\n",
       "      <td>0</td>\n",
       "      <td>0</td>\n",
       "      <td>0</td>\n",
       "      <td>0</td>\n",
       "      <td>0</td>\n",
       "      <td>0</td>\n",
       "      <td>0</td>\n",
       "      <td>0</td>\n",
       "      <td>0</td>\n",
       "    </tr>\n",
       "    <tr>\n",
       "      <th>4</th>\n",
       "      <td>0</td>\n",
       "      <td>0</td>\n",
       "      <td>0</td>\n",
       "      <td>0</td>\n",
       "      <td>0</td>\n",
       "      <td>0</td>\n",
       "      <td>0</td>\n",
       "      <td>0</td>\n",
       "      <td>0</td>\n",
       "      <td>0</td>\n",
       "      <td>...</td>\n",
       "      <td>0</td>\n",
       "      <td>0</td>\n",
       "      <td>0</td>\n",
       "      <td>0</td>\n",
       "      <td>0</td>\n",
       "      <td>0</td>\n",
       "      <td>0</td>\n",
       "      <td>0</td>\n",
       "      <td>0</td>\n",
       "      <td>0</td>\n",
       "    </tr>\n",
       "  </tbody>\n",
       "</table>\n",
       "<p>5 rows × 784 columns</p>\n",
       "</div>"
      ],
      "text/plain": [
       "   0    1    2    3    4    5    6    7    8    9    ...  774  775  776  777  \\\n",
       "0    0    0    0    0    0    0    0    0    0    0  ...    0    0    0    0   \n",
       "1    0    0    0    0    0    0    0    0    0    0  ...    0    0    0    0   \n",
       "2    0    0    0    0    0    0    0    0    0    0  ...    0    0    0    0   \n",
       "3    0    0    0    0    0    0    0    0    0    0  ...    0    0    0    0   \n",
       "4    0    0    0    0    0    0    0    0    0    0  ...    0    0    0    0   \n",
       "\n",
       "   778  779  780  781  782  783  \n",
       "0    0    0    0    0    0    0  \n",
       "1    0    0    0    0    0    0  \n",
       "2    0    0    0    0    0    0  \n",
       "3    0    0    0    0    0    0  \n",
       "4    0    0    0    0    0    0  \n",
       "\n",
       "[5 rows x 784 columns]"
      ]
     },
     "execution_count": 5,
     "metadata": {},
     "output_type": "execute_result"
    }
   ],
   "source": [
    "pd.DataFrame(x_train).head()"
   ]
  },
  {
   "cell_type": "code",
   "execution_count": 6,
   "id": "9886346d",
   "metadata": {},
   "outputs": [
    {
     "data": {
      "text/html": [
       "<div>\n",
       "<style scoped>\n",
       "    .dataframe tbody tr th:only-of-type {\n",
       "        vertical-align: middle;\n",
       "    }\n",
       "\n",
       "    .dataframe tbody tr th {\n",
       "        vertical-align: top;\n",
       "    }\n",
       "\n",
       "    .dataframe thead th {\n",
       "        text-align: right;\n",
       "    }\n",
       "</style>\n",
       "<table border=\"1\" class=\"dataframe\">\n",
       "  <thead>\n",
       "    <tr style=\"text-align: right;\">\n",
       "      <th></th>\n",
       "      <th>0</th>\n",
       "    </tr>\n",
       "  </thead>\n",
       "  <tbody>\n",
       "    <tr>\n",
       "      <th>0</th>\n",
       "      <td>5</td>\n",
       "    </tr>\n",
       "    <tr>\n",
       "      <th>1</th>\n",
       "      <td>0</td>\n",
       "    </tr>\n",
       "    <tr>\n",
       "      <th>2</th>\n",
       "      <td>4</td>\n",
       "    </tr>\n",
       "    <tr>\n",
       "      <th>3</th>\n",
       "      <td>1</td>\n",
       "    </tr>\n",
       "    <tr>\n",
       "      <th>4</th>\n",
       "      <td>9</td>\n",
       "    </tr>\n",
       "  </tbody>\n",
       "</table>\n",
       "</div>"
      ],
      "text/plain": [
       "   0\n",
       "0  5\n",
       "1  0\n",
       "2  4\n",
       "3  1\n",
       "4  9"
      ]
     },
     "execution_count": 6,
     "metadata": {},
     "output_type": "execute_result"
    }
   ],
   "source": [
    "pd.DataFrame(t_train).head()"
   ]
  },
  {
   "cell_type": "code",
   "execution_count": 6,
   "id": "2f0607f1",
   "metadata": {},
   "outputs": [
    {
     "ename": "NameError",
     "evalue": "name 'plot_samples' is not defined",
     "output_type": "error",
     "traceback": [
      "\u001b[0;31m---------------------------------------------------------------------------\u001b[0m",
      "\u001b[0;31mNameError\u001b[0m                                 Traceback (most recent call last)",
      "Input \u001b[0;32mIn [6]\u001b[0m, in \u001b[0;36m<cell line: 1>\u001b[0;34m()\u001b[0m\n\u001b[0;32m----> 1\u001b[0m \u001b[43mplot_samples\u001b[49m(x_train,\u001b[38;5;241m5\u001b[39m,\u001b[38;5;241m5\u001b[39m)\n",
      "\u001b[0;31mNameError\u001b[0m: name 'plot_samples' is not defined"
     ]
    }
   ],
   "source": [
    "plot_samples(x_train,5,5)"
   ]
  },
  {
   "cell_type": "code",
   "execution_count": 7,
   "id": "39f439a6",
   "metadata": {},
   "outputs": [],
   "source": [
    "a = np.zeros((10,10))\n",
    "k=0\n",
    "for i in range(0,10):\n",
    "    for j in range(0,10):\n",
    "        a[i][j] = t_train[k]\n",
    "        k+=1"
   ]
  },
  {
   "cell_type": "code",
   "execution_count": 8,
   "id": "80c2d2ac",
   "metadata": {},
   "outputs": [
    {
     "data": {
      "text/plain": [
       "array([[5., 0., 4., 1., 9., 2., 1., 3., 1., 4.],\n",
       "       [3., 5., 3., 6., 1., 7., 2., 8., 6., 9.],\n",
       "       [4., 0., 9., 1., 1., 2., 4., 3., 2., 7.],\n",
       "       [3., 8., 6., 9., 0., 5., 6., 0., 7., 6.],\n",
       "       [1., 8., 7., 9., 3., 9., 8., 5., 9., 3.],\n",
       "       [3., 0., 7., 4., 9., 8., 0., 9., 4., 1.],\n",
       "       [4., 4., 6., 0., 4., 5., 6., 1., 0., 0.],\n",
       "       [1., 7., 1., 6., 3., 0., 2., 1., 1., 7.],\n",
       "       [9., 0., 2., 6., 7., 8., 3., 9., 0., 4.],\n",
       "       [6., 7., 4., 6., 8., 0., 7., 8., 3., 1.]])"
      ]
     },
     "execution_count": 8,
     "metadata": {},
     "output_type": "execute_result"
    }
   ],
   "source": [
    "a"
   ]
  },
  {
   "cell_type": "markdown",
   "id": "0e8be411",
   "metadata": {},
   "source": [
    "#### ZCA whitening the values\n",
    "Before running a sparse coding algorithm, it is beneficial to remove \"obvious\" structure from the data. \n",
    "\n",
    "- Normalize such that mean is 0 and covariance is the identity\n",
    "- This will remove the 1st and 2dn order statistical structure.\n",
    "\n",
    "\n",
    "###### Running ZCA with all the training data causes kernel to die. Need to find out another way, doing it in batch definitely messes up the results of whitening."
   ]
  },
  {
   "cell_type": "code",
   "execution_count": 9,
   "id": "7ca1f1e2",
   "metadata": {},
   "outputs": [],
   "source": [
    "def zca_whitening_matrix(X):\n",
    "    \"\"\"\n",
    "    Function to compute ZCA whitening matrix (aka Mahalanobis whitening).\n",
    "    INPUT:  X: [M x N] matrix.\n",
    "        Rows: Variables\n",
    "        Columns: Observations\n",
    "    OUTPUT: ZCAMatrix: [M x M] matrix\n",
    "    \"\"\"\n",
    "    # Covariance matrix [column-wise variables]: Sigma = (X-mu)' * (X-mu) / N\n",
    "    sigma = np.cov(X, rowvar=True) # [M x M]\n",
    "    # Singular Value Decomposition. X = U * np.diag(S) * V\n",
    "    U,S,V = np.linalg.svd(sigma)\n",
    "        # U: [M x M] eigenvectors of sigma.\n",
    "        # S: [M x 1] eigenvalues of sigma.\n",
    "        # V: [M x M] transpose of U\n",
    "    # Whitening constant: prevents division by zero\n",
    "    epsilon = 1e-5\n",
    "    # ZCA Whitening matrix: U * Lambda * U'\n",
    "    ZCAMatrix = np.dot(U, np.dot(np.diag(1.0/np.sqrt(S + epsilon)), U.T)) # [M x M]\n",
    "    return ZCAMatrix"
   ]
  },
  {
   "cell_type": "code",
   "execution_count": 10,
   "id": "6be5aec7",
   "metadata": {},
   "outputs": [],
   "source": [
    "ZCA_mat = zca_whitening_matrix(x_train[0:1000])\n",
    "ZCA_whitened = np.dot(ZCA_mat, x_train[0:1000]) # project X onto the ZCAMatrix\n"
   ]
  },
  {
   "cell_type": "code",
   "execution_count": 15,
   "id": "ff430448",
   "metadata": {},
   "outputs": [
    {
     "data": {
      "image/png": "[encoded data removed]",
      "text/plain": [
       "<Figure size 432x288 with 49 Axes>"
      ]
     },
     "metadata": {
      "needs_background": "light"
     },
     "output_type": "display_data"
    }
   ],
   "source": [
    "plot_samples(ZCA_whitened, 7,7)"
   ]
  },
  {
   "cell_type": "markdown",
   "id": "f1dd8ac8",
   "metadata": {},
   "source": [
    "### Using ISTA to infer the sparse codes"
   ]
  },
  {
   "cell_type": "code",
   "execution_count": 8,
   "id": "5a175fb8",
   "metadata": {},
   "outputs": [],
   "source": [
    "convergenceThreshold = 5e-4\n",
    "sparsityTerm = 0.5\n",
    "maxIterations = 10000\n",
    "learningRate = 0.0001\n",
    "\n",
    "def shrink(a,b):\n",
    "    sign = [1 if x>0 else -1 for x in a.flatten()]\n",
    "    shrinkedValue = sign * np.clip(np.absolute(a) - b,0,None)\n",
    "    \n",
    "    return shrinkedValue\n",
    "\n",
    "def ISTA(X, h, D):\n",
    "    prevObjectiveFunction = 0\n",
    "    i = 0\n",
    "    while True:\n",
    "        # Iterations i\n",
    "        i +=1\n",
    "        \n",
    "        Y = h@D\n",
    "        objectiveFunction = 0.5 * np.sum((X-Y)**2) + sparsityTerm * np.sum(np.absolute(h))\n",
    "        diffObjectiveFunction = abs(objectiveFunction - prevObjectiveFunction)\n",
    "        \n",
    "        # Break from loop once the ISTA converges or reaches maxIterations\n",
    "        if(diffObjectiveFunction < convergenceThreshold or i > maxIterations):\n",
    "            break\n",
    "        \n",
    "        prevObjectiveFunction = objectiveFunction\n",
    "\n",
    "        h = h - learningRate * ((Y-X)@ D.T)\n",
    "        h = shrink(h, learningRate * sparsityTerm)\n",
    "        \n",
    "#     print(\"h=\",h, \"\\nX = \", X, \"\\nY = \",h@D,\"\\n objFunc = \", objectiveFunction, \"\\n i = \",i , \"\\n\")\n",
    "    \n",
    "    return h"
   ]
  },
  {
   "cell_type": "code",
   "execution_count": 9,
   "id": "2f80f896",
   "metadata": {},
   "outputs": [],
   "source": [
    "X = np.array([10, 25, 33, 42, 51, 68, 36, 88, 92])\n",
    "D = np.array([[0, 1, 1, 1, 0, 0, 1, 1, 1],\n",
    "              [2, 2, 2, 2, 2, 2, 2, 2, 2],\n",
    "              [3, 3, 3, 3, 3, 3, 3, 3, 3],\n",
    "              [4, 4, 4, 4, 4, 4, 4, 4, 4],\n",
    "              [5, 5, 5, 5, 5, 5, 5, 5, 5]\n",
    "              ])\n",
    "h = np.array([1,1,1,1,1])"
   ]
  },
  {
   "cell_type": "code",
   "execution_count": 10,
   "id": "a84f99e9",
   "metadata": {},
   "outputs": [
    {
     "data": {
      "text/plain": [
       "array([8.34805124, 1.86624116, 2.54856174, 3.23088232, 3.9132029 ])"
      ]
     },
     "execution_count": 10,
     "metadata": {},
     "output_type": "execute_result"
    }
   ],
   "source": [
    "ISTA(X, h, D)"
   ]
  },
  {
   "cell_type": "markdown",
   "id": "9f1559d2",
   "metadata": {},
   "source": [
    "## Dictionary Learning with block coordinate descent"
   ]
  },
  {
   "cell_type": "code",
   "execution_count": 11,
   "id": "47b03e81",
   "metadata": {},
   "outputs": [
    {
     "data": {
      "text/plain": [
       "array([ 0.47758748, -0.55109025, -0.04859929, -1.62846107, -0.06642198,\n",
       "        0.81686305, -0.42442636,  0.19310723, -0.52154078,  0.53460303,\n",
       "        2.44031353,  0.61990601, -0.34845924,  0.66656025, -0.93069523,\n",
       "       -1.15700458,  0.63520126, -1.55576454, -0.23908966, -0.02445776,\n",
       "       -0.16370848, -0.24814052, -0.18972359, -1.07827586, -1.43640199,\n",
       "       -1.24740879,  0.19796847,  0.70984852, -1.34393025,  1.83829477,\n",
       "       -0.79302421,  1.17390754,  0.36498039, -1.75350098,  2.23368913,\n",
       "       -0.40948842,  0.24200181,  0.39447191, -0.57915264, -1.40642055,\n",
       "       -0.34776436,  1.14416455,  1.21640569, -1.03669929,  1.10972336,\n",
       "        0.85899774,  1.69289361, -1.30940891,  0.40814707, -0.30339389,\n",
       "        0.11188613, -1.02328926,  0.20079658, -1.59229155,  0.67843403,\n",
       "        1.33653664, -0.72888183,  0.66867218, -1.70890352, -0.79305759,\n",
       "        0.09743941, -0.54778545,  0.72233657,  0.90546912,  0.02643497,\n",
       "        0.96408337, -0.3882776 ,  0.74929668, -0.78942173, -0.03932208,\n",
       "        0.90944402,  0.81643182, -0.66241165, -1.11840733, -1.20413972,\n",
       "        1.00488649,  1.56880015,  1.94862319, -0.14397366, -0.00605574,\n",
       "       -1.54474482, -0.92879583,  0.45665473, -0.86367666, -0.51415343,\n",
       "        0.63046703, -2.01246597, -0.17115784,  0.46277459,  0.43316079,\n",
       "        0.55082897,  0.60346173,  0.46952068,  0.07519691, -2.0407436 ,\n",
       "        0.40332069,  1.44205483, -1.78188755,  1.3980365 ,  0.91179074])"
      ]
     },
     "execution_count": 11,
     "metadata": {},
     "output_type": "execute_result"
    }
   ],
   "source": [
    "np.random.normal(size=[100])"
   ]
  },
  {
   "cell_type": "code",
   "execution_count": 12,
   "id": "e1ea7820",
   "metadata": {},
   "outputs": [],
   "source": [
    "def initializeHiddenLayer(numOfAtoms = 10000):\n",
    "    hInit= np.abs(np.random.normal(size=[numOfAtoms]))\n",
    "    # Unit normalize the hidden layers atoms\n",
    "    rowSum = hInit.sum()\n",
    "    h = hInit / rowSum\n",
    "    return h\n",
    "    \n",
    "    \n",
    "def initializeDictionary(X, numOfAtoms = 10000):\n",
    "    DInit= np.abs(np.random.normal(size=[numOfAtoms, X.shape[1]]))\n",
    "    # Unit normalize the Dictionary atoms\n",
    "    rowSum = DInit.sum(axis = 1)\n",
    "    D = DInit / rowSum[:, np.newaxis]\n",
    "    return D\n",
    "    "
   ]
  },
  {
   "cell_type": "code",
   "execution_count": 24,
   "id": "f9aad9cd",
   "metadata": {},
   "outputs": [],
   "source": [
    "def dictLearningBlockDescent(XBatch, D):\n",
    "    prevObjectiveFunction = 0\n",
    "    i = 0\n",
    "    hBatch = np.array([])\n",
    "    while True:\n",
    "        # Iterations i\n",
    "        i +=1\n",
    "        \n",
    "        # ISTA for each X in XBatch and store hBatch\n",
    "        for X in XBatch:\n",
    "            h = initializeHiddenLayer(D.shape[0])\n",
    "            h = ISTA(X, h, D)\n",
    "            hBatch = np.vstack([hBatch, h]) if hBatch.size else h\n",
    "        \n",
    "        # Check convergence of dictionary learning\n",
    "        YBatch = hBatch@D\n",
    "        objectiveFunction = 0.5 * np.sum((XBatch-YBatch)**2) + sparsityTerm * np.sum(np.absolute(hBatch))\n",
    "        diffObjectiveFunction = abs(objectiveFunction - prevObjectiveFunction)\n",
    "        \n",
    "        # Break from loop once the ISTA converges or reaches maxIterations\n",
    "        if(diffObjectiveFunction < convergenceThreshold or i > maxIterations):\n",
    "            break\n",
    "        \n",
    "        prevObjectiveFunction = objectiveFunction\n",
    "        \n",
    "        # Block coordinate descent\n",
    "        A = hBatch.T @ hBatch\n",
    "        B = hBatch.T @ XBatch\n",
    "        \n",
    "        # Iterating for each atom\n",
    "        for atomIndex, atom in enumerate(D):\n",
    "\n",
    "\n",
    "            updatedAtom = (1/A[atomIndex, atomIndex]) * (B[atomIndex] - (A[atomIndex] @ D) + (D[atomIndex] * A[atomIndex, atomIndex]))        \n",
    "            \n",
    "            # Unit normalizing the atom in dictionary\n",
    "            rowSum = updatedAtom.sum()\n",
    "            h = updatedAtom / rowSum\n",
    "            \n",
    "            D[atomIndex] = updatedAtom\n",
    "            \n",
    "        print(\"\\n Iteration: \",i, \"\\n Objective Function: \",objectiveFunction)\n",
    "    return D\n",
    "\n",
    "dictLearningBlockDescent(XNormalized, D)"
   ]
  },
  {
   "cell_type": "code",
   "execution_count": 18,
   "id": "e5567626",
   "metadata": {},
   "outputs": [
    {
     "name": "stdout",
     "output_type": "stream",
     "text": [
      "(10000, 784)\n"
     ]
    }
   ],
   "source": [
    "D = initializeDictionary(x_train[:100])\n",
    "print(D.shape)"
   ]
  },
  {
   "cell_type": "code",
   "execution_count": 19,
   "id": "3d11c2fb",
   "metadata": {},
   "outputs": [
    {
     "data": {
      "text/plain": [
       "(100, 784)"
      ]
     },
     "execution_count": 19,
     "metadata": {},
     "output_type": "execute_result"
    }
   ],
   "source": [
    "data = x_train[:100]\n",
    "XNormalized = data/256\n",
    "XNormalized.shape\n"
   ]
  },
  {
   "cell_type": "code",
   "execution_count": 20,
   "id": "b20666b0",
   "metadata": {},
   "outputs": [
    {
     "name": "stdout",
     "output_type": "stream",
     "text": [
      "(10000, 784)\n",
      "(784,)\n"
     ]
    },
    {
     "name": "stderr",
     "output_type": "stream",
     "text": [
      "/var/folders/b0/klbjq9wd7fggvy9j8mmktxdjc2_df6/T/ipykernel_53350/224208203.py:32: RuntimeWarning: divide by zero encountered in double_scalars\n",
      "  updatedAtom = (1/A[atomIndex, atomIndex]) * (B[atomIndex] - (A[atomIndex] @ D) + (D * A[atomIndex, atomIndex]))\n",
      "/var/folders/b0/klbjq9wd7fggvy9j8mmktxdjc2_df6/T/ipykernel_53350/224208203.py:32: RuntimeWarning: invalid value encountered in multiply\n",
      "  updatedAtom = (1/A[atomIndex, atomIndex]) * (B[atomIndex] - (A[atomIndex] @ D) + (D * A[atomIndex, atomIndex]))\n"
     ]
    },
    {
     "ename": "ValueError",
     "evalue": "could not broadcast input array from shape (10000,784) into shape (784,)",
     "output_type": "error",
     "traceback": [
      "\u001b[0;31m---------------------------------------------------------------------------\u001b[0m",
      "\u001b[0;31mValueError\u001b[0m                                Traceback (most recent call last)",
      "\u001b[1;32m/Users/ms5267/Documents/Documents/SparseCodingLab/SparseCoding/MNIST-SparseRepresentation.ipynb Cell 26'\u001b[0m in \u001b[0;36m<cell line: 1>\u001b[0;34m()\u001b[0m\n\u001b[0;32m----> <a href='vscode-notebook-cell:/Users/ms5267/Documents/Documents/SparseCodingLab/SparseCoding/MNIST-SparseRepresentation.ipynb#ch0000025?line=0'>1</a>\u001b[0m dictLearningBlockDescent(XNormalized, D)\n",
      "\u001b[1;32m/Users/ms5267/Documents/Documents/SparseCodingLab/SparseCoding/MNIST-SparseRepresentation.ipynb Cell 23'\u001b[0m in \u001b[0;36mdictLearningBlockDescent\u001b[0;34m(XBatch, D)\u001b[0m\n\u001b[1;32m     <a href='vscode-notebook-cell:/Users/ms5267/Documents/Documents/SparseCodingLab/SparseCoding/MNIST-SparseRepresentation.ipynb#ch0000022?line=35'>36</a>\u001b[0m         rowSum \u001b[39m=\u001b[39m updatedAtom\u001b[39m.\u001b[39msum()\n\u001b[1;32m     <a href='vscode-notebook-cell:/Users/ms5267/Documents/Documents/SparseCodingLab/SparseCoding/MNIST-SparseRepresentation.ipynb#ch0000022?line=36'>37</a>\u001b[0m         h \u001b[39m=\u001b[39m updatedAtom \u001b[39m/\u001b[39m rowSum\n\u001b[0;32m---> <a href='vscode-notebook-cell:/Users/ms5267/Documents/Documents/SparseCodingLab/SparseCoding/MNIST-SparseRepresentation.ipynb#ch0000022?line=38'>39</a>\u001b[0m         D[atomIndex] \u001b[39m=\u001b[39m updatedAtom\n\u001b[1;32m     <a href='vscode-notebook-cell:/Users/ms5267/Documents/Documents/SparseCodingLab/SparseCoding/MNIST-SparseRepresentation.ipynb#ch0000022?line=40'>41</a>\u001b[0m     \u001b[39mprint\u001b[39m(\u001b[39m\"\u001b[39m\u001b[39m\\n\u001b[39;00m\u001b[39m Iteration: \u001b[39m\u001b[39m\"\u001b[39m,i, \u001b[39m\"\u001b[39m\u001b[39m\\n\u001b[39;00m\u001b[39m Objective Function: \u001b[39m\u001b[39m\"\u001b[39m,objectiveFunction)\n\u001b[1;32m     <a href='vscode-notebook-cell:/Users/ms5267/Documents/Documents/SparseCodingLab/SparseCoding/MNIST-SparseRepresentation.ipynb#ch0000022?line=41'>42</a>\u001b[0m \u001b[39mreturn\u001b[39;00m D\n",
      "\u001b[0;31mValueError\u001b[0m: could not broadcast input array from shape (10000,784) into shape (784,)"
     ]
    }
   ],
   "source": [
    "dictLearningBlockDescent(XNormalized, D)"
   ]
  },
  {
   "cell_type": "code",
   "execution_count": 91,
   "id": "344762d3",
   "metadata": {},
   "outputs": [
    {
     "data": {
      "text/plain": [
       "(10000,)"
      ]
     },
     "execution_count": 91,
     "metadata": {},
     "output_type": "execute_result"
    }
   ],
   "source": [
    "hInit= np.abs(np.random.normal(size=[10000]))\n",
    "# Unit normalize the hidden layers atoms\n",
    "rowSum = hInit.sum()\n",
    "h = hInit / rowSum\n",
    "h.shape"
   ]
  },
  {
   "cell_type": "markdown",
   "id": "3be8c6ae",
   "metadata": {},
   "source": [
    "# Scrap below"
   ]
  },
  {
   "cell_type": "code",
   "execution_count": 152,
   "id": "a211f303",
   "metadata": {},
   "outputs": [
    {
     "data": {
      "text/plain": [
       "784"
      ]
     },
     "execution_count": 152,
     "metadata": {},
     "output_type": "execute_result"
    }
   ],
   "source": [
    "x_train[:1000].shape[1]"
   ]
  },
  {
   "cell_type": "code",
   "execution_count": 141,
   "id": "9f8f9610",
   "metadata": {},
   "outputs": [
    {
     "data": {
      "text/plain": [
       "array([4, 5, 6])"
      ]
     },
     "execution_count": 141,
     "metadata": {},
     "output_type": "execute_result"
    }
   ],
   "source": [
    "\n",
    "a = np.array([], dtype=np.int64)\n",
    "b = np.array([4, 5, 6])\n",
    "a = np.vstack([a, b]) if a.size else b\n",
    "\n",
    "a"
   ]
  },
  {
   "cell_type": "code",
   "execution_count": 53,
   "id": "6f3cdb8c",
   "metadata": {},
   "outputs": [
    {
     "name": "stdout",
     "output_type": "stream",
     "text": [
      "0 [0 1 1 1 0 0 1 1 1]\n",
      "1 [2 2 2 2 2 2 2 2 2]\n"
     ]
    }
   ],
   "source": [
    "for i,a in enumerate(D):\n",
    "    print(i,a)"
   ]
  },
  {
   "cell_type": "code",
   "execution_count": null,
   "id": "f8c70d1b",
   "metadata": {},
   "outputs": [],
   "source": [
    "test = np.array([[3], [1],[4]])\n",
    "print(test.flatten())\n",
    "sign = [1 if x>=0 else -1 for x in test.flatten()]\n",
    "shrinkedValue = sign * np.clip(np.absolute(test) - 1,0,None)\n",
    "    \n",
    "print(h)\n",
    "print(shrinkedValue)"
   ]
  },
  {
   "cell_type": "code",
   "execution_count": 19,
   "id": "836c2fa7",
   "metadata": {},
   "outputs": [
    {
     "data": {
      "text/plain": [
       "array([[0, 1, 1, 1, 0, 0, 1, 1, 1],\n",
       "       [2, 2, 2, 2, 2, 2, 2, 2, 2]])"
      ]
     },
     "execution_count": 19,
     "metadata": {},
     "output_type": "execute_result"
    }
   ],
   "source": [
    "D=np.array([[0,1,1,\n",
    "             1,0,0,\n",
    "            1,1,1],\n",
    "            \n",
    "            [2,2,2,\n",
    "             2,2,2,\n",
    "            2,2,2]\n",
    "            ]\n",
    "           )\n",
    "D"
   ]
  },
  {
   "cell_type": "code",
   "execution_count": 20,
   "id": "2239ac65",
   "metadata": {},
   "outputs": [
    {
     "data": {
      "text/plain": [
       "(1, 9)"
      ]
     },
     "execution_count": 20,
     "metadata": {},
     "output_type": "execute_result"
    }
   ],
   "source": [
    "X=np.array([[10,25,33,\n",
    "             42,51,68,\n",
    "            36,88,92]]\n",
    "           )\n",
    "X.shape"
   ]
  },
  {
   "cell_type": "code",
   "execution_count": 21,
   "id": "3e376b1e",
   "metadata": {},
   "outputs": [
    {
     "data": {
      "text/plain": [
       "(1, 2)"
      ]
     },
     "execution_count": 21,
     "metadata": {},
     "output_type": "execute_result"
    }
   ],
   "source": [
    "h = np.array([[0, 0]])\n",
    "h.shape"
   ]
  },
  {
   "cell_type": "code",
   "execution_count": 23,
   "id": "9ce7d72c",
   "metadata": {},
   "outputs": [
    {
     "name": "stdout",
     "output_type": "stream",
     "text": [
      "(1, 9)\n",
      "(9, 2)\n"
     ]
    }
   ],
   "source": [
    "Y = h@D\n",
    "Y-X\n",
    "print((Y-X).shape)\n",
    "print(D.T.shape)"
   ]
  },
  {
   "cell_type": "code",
   "execution_count": 46,
   "id": "ac98bbfd",
   "metadata": {},
   "outputs": [
    {
     "data": {
      "text/plain": [
       "array([16,  6,  8])"
      ]
     },
     "execution_count": 46,
     "metadata": {},
     "output_type": "execute_result"
    }
   ],
   "source": [
    "a = np.array([[ 5, 1 ,3], \n",
    "              [ 1, 1 ,1],\n",
    "              [ 1, 2, 1]])\n",
    "b = np.array([1, 2, 3])\n",
    "a.dot(b)"
   ]
  },
  {
   "cell_type": "code",
   "execution_count": 71,
   "id": "836dbfad",
   "metadata": {},
   "outputs": [],
   "source": [
    "j = np.array([[ -5, 1 ,-3], \n",
    "              [ 1, 1 ,1],\n",
    "              [ 1, -2, 1]])"
   ]
  },
  {
   "cell_type": "code",
   "execution_count": 72,
   "id": "c192d528",
   "metadata": {},
   "outputs": [
    {
     "data": {
      "text/plain": [
       "array([[5, 1, 3],\n",
       "       [1, 1, 1],\n",
       "       [1, 2, 1]])"
      ]
     },
     "execution_count": 72,
     "metadata": {},
     "output_type": "execute_result"
    }
   ],
   "source": [
    "np.absolute(j)"
   ]
  },
  {
   "cell_type": "code",
   "execution_count": 73,
   "id": "361a9f72",
   "metadata": {},
   "outputs": [
    {
     "data": {
      "text/plain": [
       "array([1, 2])"
      ]
     },
     "execution_count": 73,
     "metadata": {},
     "output_type": "execute_result"
    }
   ],
   "source": [
    "b"
   ]
  },
  {
   "cell_type": "code",
   "execution_count": 76,
   "id": "28df7d11",
   "metadata": {},
   "outputs": [],
   "source": [
    "sign = [1 if x>=0 else -1 for x in b]"
   ]
  },
  {
   "cell_type": "code",
   "execution_count": 77,
   "id": "ecfc8747",
   "metadata": {},
   "outputs": [
    {
     "data": {
      "text/plain": [
       "[1, 1]"
      ]
     },
     "execution_count": 77,
     "metadata": {},
     "output_type": "execute_result"
    }
   ],
   "source": [
    "sign"
   ]
  },
  {
   "cell_type": "code",
   "execution_count": 88,
   "id": "eee12855",
   "metadata": {},
   "outputs": [
    {
     "data": {
      "text/plain": [
       "array([0, 1])"
      ]
     },
     "execution_count": 88,
     "metadata": {},
     "output_type": "execute_result"
    }
   ],
   "source": [
    "shrink(b, 1)"
   ]
  },
  {
   "cell_type": "code",
   "execution_count": 83,
   "id": "3e5389fe",
   "metadata": {},
   "outputs": [
    {
     "data": {
      "text/plain": [
       "array([[0, 1, 0],\n",
       "       [1, 1, 1],\n",
       "       [1, 0, 1]])"
      ]
     },
     "execution_count": 83,
     "metadata": {},
     "output_type": "execute_result"
    }
   ],
   "source": [
    "np.clip(j, 0,None)"
   ]
  },
  {
   "cell_type": "code",
   "execution_count": null,
   "id": "5ea90c5b",
   "metadata": {},
   "outputs": [],
   "source": []
  }
 ],
 "metadata": {
  "interpreter": {
   "hash": "b09d578a64f9c47a88456b1b96c86094125093e6d65b5d08af8fc6706051a0ce"
  },
  "kernelspec": {
   "display_name": "Python 3.8.13 ('tf_m1')",
   "language": "python",
   "name": "python3"
  },
  "language_info": {
   "codemirror_mode": {
    "name": "ipython",
    "version": 3
   },
   "file_extension": ".py",
   "mimetype": "text/x-python",
   "name": "python",
   "nbconvert_exporter": "python",
   "pygments_lexer": "ipython3",
   "version": "3.8.13"
  }
 },
 "nbformat": 4,
 "nbformat_minor": 5
}
